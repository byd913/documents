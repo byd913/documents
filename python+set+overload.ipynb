{
 "cells": [
  {
   "cell_type": "markdown",
   "metadata": {},
   "source": [
    "## python 自定义类型使用set\n",
    "我们经常会用到set来做排重，对于一些基本的类型没有问题。\n",
    "但是对于我们自定义的类，里面可能有10几个属性，我们只希望用里面的一个或者几个属性来标示重复。\n",
    "这种情况应该怎么处理呢?"
   ]
  },
  {
   "cell_type": "markdown",
   "metadata": {},
   "source": [
    "## python运算符重载\n",
    "python语言提供了与C++类似的运算符重载，常用的运算符的重载和调用如下:\n",
    "\n",
    "| Methold  | Overloads |      Call For     |\n",
    "| -------- | --------- | ----------------- |\n",
    "| __init__ | 构造函数  | x = Class()       |\n",
    "| __del__  | 析构函数  | 对象销毁          |\n",
    "| __add__  | +         | x+y, x+=y         |\n",
    "| __repr__ | 打印转换  | print x,  repr(x) |\n",
    "| __str__  | 打印转换  | print x,  str(x)  |\n",
    "| __call__ | 调用函数  | x()               |\n",
    "| __len__  | 长度      | len(x)            |\n",
    "| __comp__ | 比较      | x==y, x < y       |\n",
    "| __lt__   | 小于      | x < y             |\n",
    "| __eq__   | 等于      | x = y             |\n",
    "| __iter__ | 迭代      | for i in x        |\n",
    "| __hash__ | 计算hash  | hash(x)           |"
   ]
  },
  {
   "cell_type": "markdown",
   "metadata": {},
   "source": [
    "## python set的比较\n",
    "在python的set内部，当比较两个元素是否相等的时候，会用**两个元素的值**和**两个元素的hash值**进行比较。\n",
    "下面是一个例子:"
   ]
  },
  {
   "cell_type": "code",
   "execution_count": 1,
   "metadata": {},
   "outputs": [],
   "source": [
    "class Record:\n",
    "    '''\n",
    "    定义一个Record类\n",
    "    类拥有两个元素,value1和value2\n",
    "    '''\n",
    "    def __init__(self, value1, value2):\n",
    "        self.value1 = value1\n",
    "        self.value2 = value2\n",
    "    \n",
    "    def __hash__(self):\n",
    "        '''\n",
    "        重载hash函数，只返回value2的hash值\n",
    "        '''\n",
    "        return hash(self.value2)\n",
    "    \n",
    "    def __eq__(self, other):\n",
    "        '''\n",
    "        重载__eq__函数，只使用value2的值进行比较\n",
    "        '''\n",
    "        return self.value2 == other.value2\n",
    "    \n",
    "    \n",
    "    def __str__(self):\n",
    "        '''\n",
    "        重载打印转换函数，打印value1和value2的\n",
    "        '''\n",
    "        return '(%s,%s)' % (str(self.value1), str(self.value2))\n",
    "    \n",
    "    def __repr__(self):\n",
    "        return self.__str__()"
   ]
  },
  {
   "cell_type": "markdown",
   "metadata": {},
   "source": [
    "我们定义几个Record的元素，加入到set里面，测试加入是否成功"
   ]
  },
  {
   "cell_type": "code",
   "execution_count": 4,
   "metadata": {},
   "outputs": [
    {
     "name": "stdout",
     "output_type": "stream",
     "text": [
      "{(1,2)}\n",
      "{(1,2), (1,3)}\n",
      "{(1,2), (1,3)}\n"
     ]
    }
   ],
   "source": [
    "s = set()\n",
    "s.add(Record(1, 2))\n",
    "print (s) # 加入成功\n",
    "s.add(Record(1, 3))\n",
    "print (s) # 加入成功\n",
    "s.add(Record(2, 2))\n",
    "print (s) # 加入失败"
   ]
  },
  {
   "cell_type": "markdown",
   "metadata": {},
   "source": [
    "## 集合的交集\n"
   ]
  },
  {
   "cell_type": "code",
   "execution_count": 12,
   "metadata": {},
   "outputs": [
    {
     "name": "stdout",
     "output_type": "stream",
     "text": [
      "{(3,5)}\n"
     ]
    }
   ],
   "source": [
    "s1 = set([Record(1, 2), Record(2, 5)])\n",
    "s2 = set([Record(2, 3), Record(3, 5)])\n",
    "\n",
    "print(s1 & s2)"
   ]
  }
 ],
 "metadata": {
  "kernelspec": {
   "display_name": "Python 2",
   "language": "python",
   "name": "python2"
  },
  "language_info": {
   "codemirror_mode": {
    "name": "ipython",
    "version": 3
   },
   "file_extension": ".py",
   "mimetype": "text/x-python",
   "name": "python",
   "nbconvert_exporter": "python",
   "pygments_lexer": "ipython3",
   "version": "3.6.4"
  }
 },
 "nbformat": 4,
 "nbformat_minor": 2
}
