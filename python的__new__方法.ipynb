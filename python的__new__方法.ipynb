{
 "cells": [
  {
   "cell_type": "markdown",
   "metadata": {},
   "source": [
    "## 注意点\n",
    "1. `__new__()`在类的初始化函数`__init__()`之前调用\n",
    "2. `__new__()`始终都是类的静态方法，即使没有被加上静态方法装饰器。(在调用函数的时候，类的示例还没有生存呢)\n",
    "3. 如果该类没有重新定义`__new__()`方法，则使用其父类的`__new__()`方法，如果父类也没定义，则一直往上找，知道object类的`__new__()`方法\n",
    "4. `__new__()`方法会返回cls（cls指代当前类）的实例，然后该类的`__init__()`方法作为构造方法会接收这个实例（即self）作为自己的第一个参数，然后依次传入`__new__()`方法中接收的位置参数和命名参数"
   ]
  },
  {
   "cell_type": "markdown",
   "metadata": {},
   "source": [
    "## 使用实例\n",
    "### A类返回B类的实例\n",
    "通过重写`__new__()`方法，我们可以实现，调用A类，但是实际生成B类的实例"
   ]
  },
  {
   "cell_type": "code",
   "execution_count": 9,
   "metadata": {},
   "outputs": [
    {
     "name": "stdout",
     "output_type": "stream",
     "text": [
      "<class '__main__.B'>\n"
     ]
    }
   ],
   "source": [
    "class B(object):\n",
    "    def __init__(self):\n",
    "        print('Initial B')\n",
    "\n",
    "\n",
    "class A(object):\n",
    "    def __init__(self):\n",
    "        print('Initial A')\n",
    "    \n",
    "    def __new__(cls, *args, **kwargs):\n",
    "        return object.__new__(B, args, kwargs)\n",
    "\n",
    "a = A()\n",
    "print(type(a))"
   ]
  },
  {
   "cell_type": "markdown",
   "metadata": {},
   "source": [
    "**说明**\n",
    "从上面可以看出，虽然我们调用的是`A()`生成的对象，但是实际的到的却是B的实例。\n",
    "> 我们可以发现A和B的`__init__()`函数都没有被调用。这是因为*如果`__new__()`没有返回cls（即当前类）的实例，那么当前类的`__init__()`方法是不会被调用的*"
   ]
  },
  {
   "cell_type": "markdown",
   "metadata": {},
   "source": [
    "### 单例模式实现\n",
    "通过`__new__()`方法，我们可以实现Python的类的单例模式，保证全局只有一个改类的示例。"
   ]
  },
  {
   "cell_type": "code",
   "execution_count": 13,
   "metadata": {},
   "outputs": [
    {
     "name": "stdout",
     "output_type": "stream",
     "text": [
      "Initialize\n",
      "Initialize\n",
      "140637776943592\n",
      "140637776943592\n"
     ]
    }
   ],
   "source": [
    "class Singleton(object):\n",
    "    def __new__(cls, *args, **kwargs):\n",
    "        if not hasattr(cls, 'instance'):\n",
    "            cls.instance = super(Singleton, cls).__new__(cls)\n",
    "        return cls.instance\n",
    "    \n",
    "    def __init__(self):\n",
    "        print('Initialize')\n",
    "        \n",
    "a = Singleton()\n",
    "b = Singleton()\n",
    "\n",
    "print(id(a))\n",
    "print(id(b))"
   ]
  },
  {
   "cell_type": "code",
   "execution_count": null,
   "metadata": {},
   "outputs": [],
   "source": []
  }
 ],
 "metadata": {
  "kernelspec": {
   "display_name": "Python 3",
   "language": "python",
   "name": "python3"
  },
  "language_info": {
   "codemirror_mode": {
    "name": "ipython",
    "version": 3
   },
   "file_extension": ".py",
   "mimetype": "text/x-python",
   "name": "python",
   "nbconvert_exporter": "python",
   "pygments_lexer": "ipython3",
   "version": "3.6.4"
  }
 },
 "nbformat": 4,
 "nbformat_minor": 2
}
