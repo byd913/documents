{
 "cells": [
  {
   "cell_type": "markdown",
   "metadata": {},
   "source": [
    "## nohup utility [arguments] &\n",
    "我们需要让一个程序长时间在后台运行的时候，我们经常会使用```nohup utility [arguments] &```，nohup和&分别有啥作用呢，不使用*nohup*，只使用*&*是否可行呢？"
   ]
  },
  {
   "cell_type": "markdown",
   "metadata": {},
   "source": [
    "## nohup\n",
    "我们先看下nohup命令自己的描述\n",
    ">The nohup utility invokes utility with its arguments and at this time sets the signal SIGHUP to be ignored.  If the standard output is a terminal, the standard output is appended to the file nohup.out in the current directory.  If standard error is a terminal, it is directed to the same place as the standard output.\n",
    "\n",
    "```sets the signal SIGHUP to be ignored```，也就是说使用nohup启动的时候，会忽略*SiGHUP*信号，那么SIGHUP信号又是什么呢?"
   ]
  },
  {
   "cell_type": "markdown",
   "metadata": {},
   "source": [
    "## SIGHUP\n",
    "SIGHUP会在以下3种情况下被发送给相应的进程：\n",
    "1. 终端关闭时，该信号被发送到session首进程以及作为job提交的进程（即用 & 符号提交的进程）\n",
    "2. session首进程退出时，该信号被发送到该session中的前台进程组中的每一个进程\n",
    "3. 若父进程退出导致进程组成为孤儿进程组，且该进程组中有进程处于停止状态（收到SIGSTOP或SIGTSTP信号），该信号会被发送到该进程组中的每一个进程。\n",
    "系统对SIGHUP的处理默认是终止进程，也就是说如果处理SIGHUP信号，在session关闭的时候，改session的进程就会终止。"
   ]
  },
  {
   "cell_type": "markdown",
   "metadata": {},
   "source": [
    "## 后台运行\n",
    "在运行程序的后面加```&```可以让程序在后台运行，不接收前台的SIGINT(ctrl+c)信号，可以通过*jobs*命令查看当前session在后台运行的程序。还可以使用```fg %x```和```bg %x```来让程序在前台和后台运行。"
   ]
  },
  {
   "cell_type": "markdown",
   "metadata": {},
   "source": [
    "## 总结\n",
    "使用nohup启动程序，会让程序忽略SIGHUP信号，并且将stdout和stderr输出到nohup.out文件中，但是程序依然在前台运行，会接收SIGINT(Ctrl+C)信号终止程序，使用&启动程序，程序在后台运行，不会接收前台的SIGINT信号，但是会接收SIGHUP信号，在session终止的时候，程序依然会退出。\n",
    "所以，我们希望程序长时间在后台运行，我们需要nohup和&配合使用。"
   ]
  }
 ],
 "metadata": {
  "kernelspec": {
   "display_name": "Python 3",
   "language": "python",
   "name": "python3"
  },
  "language_info": {
   "codemirror_mode": {
    "name": "ipython",
    "version": 3
   },
   "file_extension": ".py",
   "mimetype": "text/x-python",
   "name": "python",
   "nbconvert_exporter": "python",
   "pygments_lexer": "ipython3",
   "version": "3.6.4"
  }
 },
 "nbformat": 4,
 "nbformat_minor": 2
}
